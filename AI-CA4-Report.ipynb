{
 "cells": [
  {
   "cell_type": "markdown",
   "id": "4aac25c5",
   "metadata": {},
   "source": [
    "# Artificial Intelligence : Computer Assignment 4 - Machine Learning Introduction\n",
    "> __Morteza Nouri, 810198481__\n",
    "\n",
    "## Goals:\n",
    "- An Introduction to Machine Learning methods.\n",
    "- Working with [Scikit-Learn](‫https://scikit-learn.org/stable/‬) library.\n",
    "\n",
    "\n",
    "## Description:\n",
    "- "
   ]
  },
  {
   "cell_type": "markdown",
   "id": "6d8ae4ca",
   "metadata": {},
   "source": [
    "## Phase 0: ‫‪Exploratory‬‬ ‫‪Data‬‬ ‫‪Analysis‬‬ and ‫‪Visualization‬‬\n",
    "The first step in any machine learning project is to observe, recognize and analyze data and the relationship between them.\n",
    "\n",
    "__Q1__:"
   ]
  },
  {
   "cell_type": "code",
   "execution_count": null,
   "id": "183c69c0",
   "metadata": {},
   "outputs": [],
   "source": [
    "\n"
   ]
  }
 ],
 "metadata": {
  "kernelspec": {
   "display_name": "Python 3 (ipykernel)",
   "language": "python",
   "name": "python3"
  },
  "language_info": {
   "codemirror_mode": {
    "name": "ipython",
    "version": 3
   },
   "file_extension": ".py",
   "mimetype": "text/x-python",
   "name": "python",
   "nbconvert_exporter": "python",
   "pygments_lexer": "ipython3",
   "version": "3.7.5"
  }
 },
 "nbformat": 4,
 "nbformat_minor": 5
}
